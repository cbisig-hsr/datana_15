{
 "cells": [
  {
   "cell_type": "markdown",
   "metadata": {},
   "source": [
    "# DatAna 15 Exercise 3\n",
    "> Solution of exercise 3\n",
    "\n",
    "- toc: true \n",
    "- badges: true\n",
    "- comments: true\n",
    "- categories: [jupyter]"
   ]
  },
  {
   "cell_type": "markdown",
   "metadata": {},
   "source": [
    "# About\n",
    "\n",
    "This notebook contains the solutions of exercise 3 of week 15 of the data analytics course \n"
   ]
  },
  {
   "cell_type": "markdown",
   "metadata": {},
   "source": [
    "# Video 1\n",
    "\n",
    "> youtube: https://youtu.be/_QUEXsHfsA0\n",
    "\n",
    "## Questions\n",
    "1. Do you need these for deep learning?\n",
    "- Lots of math T / F\n",
    "- Lots of data T / F\n",
    "- Lots of expensive computers T / F\n",
    "- A PhD T / F\n",
    "> Note: None of the listed things\n",
    "\n",
    "2. Name five areas where deep learning is now the best in the world.\n",
    "> Note: playing Chess, Playing Go, product recommendations, financial forecasting, text to speech, speech recognition\n",
    "\n",
    "3. What was the name of the first device that was based on the principle of the artificial neuron?\n",
    "> Note: Mark 1 Perceptron\n",
    "\n",
    "4. Based on the book of the same name, what are the requirements for parallel distributed processing (PDP)?\n",
    "> Note: Processing units, state of activation, output function, pattern of connectivity, propagation rule, activation rule, learning rule, environment\n",
    "\n",
    "5. What were the two theoretical misunderstandings that held back the field of neural networks?\n",
    "> Note: They only looked at a single layer which cannot do very much and focuesed on this problem without recognizing that multiple layers could do much more interesting things.\n",
    "\n",
    "6. What is a GPU?\n",
    "> Note: Graphics processing unit\n",
    "\n",
    "7. Open a notebook and execute a cell containing: 1+1. What happens?\n",
    "> Note: Calculates 1+1 --> shows 2\n",
    "\n",
    "8. Follow through each cell of the stripped version of the notebook for this chapter. Before executing each cell, guess what will happen.\n",
    "> Warning: No soultion\n",
    "\n",
    "9. Complete the Jupyter Notebook online appendix.\n",
    "> Warning: No soultion \n",
    "\n",
    "10. Why is it hard to use a traditional computer program to recognize images in a photo?\n",
    "> Note: Because we can't write down the stpes (if else etc.) that are necessary (all steps in greate detail)\n",
    "\n",
    "11. What did Samuel mean by “weight assignment”?\n",
    "> Note:  Parametrizing the model\n",
    "\n",
    "12. What term do we normally use in deep learning for what Samuel called “weights”?\n",
    "> Note:  Parameters\n",
    "\n",
    "13. Draw a picture that summarizes Samuel’s view of a machine learning model.\n",
    "> Note: ![](my_images/13.png)\n",
    "\n",
    "14. Why is it hard to understand why a deep learning model makes a particular prediction?\n",
    "> Note:  Because we don't know based on what this decision was made\n",
    "\n",
    "15. What is the name of the theorem that shows that a neural network can solve any mathematical problem to any level of accuracy?\n",
    "> Note:  Universal approximation theorem\n",
    "\n",
    "16. What do you need in order to train a model?\n",
    "> Note:  Labeld data\n",
    "\n",
    "17. How could a feedback loop impact the rollout of a predictive policing model?\n",
    "> Note:   The model is getting biased towards some wrong assumptions that are represented by the data\n",
    "\n",
    "18. Do we always have to use 224×224-pixel images with the cat recognition model?\n",
    "> Note:   No they are resized if they have a wrong size\n",
    "\n",
    "19. What is the difference between classification and regression?\n",
    "> Note:   Classification puts data into different classes whereas regression gives you a continious number based on your input\n",
    "\n",
    "20. What is a validation set? What is a test set? Why do we need them?\n",
    "> Note:   They are used to check how well the model works and ensure that there is no overfitting\n",
    "\n",
    "21. What will fastai do if you don’t provide a validation set?\n",
    "> Note:   The default value is 0.2 therefore there are always 20% of the data in the validation set"
   ]
  },
  {
   "source": [
    "# Video 2\n",
    "\n",
    "youtube: https://youtu.be/BvHmRx14HQ8\n",
    "\n",
    "## Questions\n"
   ],
   "cell_type": "markdown",
   "metadata": {}
  }
 ],
 "metadata": {
  "kernelspec": {
   "name": "python385jvsc74a57bd0b3ba2566441a7c06988d0923437866b63cedc61552a5af99d1f4fb67d367b25f",
   "display_name": "Python 3.8.5 64-bit ('base': conda)"
  },
  "language_info": {
   "codemirror_mode": {
    "name": "ipython",
    "version": 3
   },
   "file_extension": ".py",
   "mimetype": "text/x-python",
   "name": "python",
   "nbconvert_exporter": "python",
   "pygments_lexer": "ipython3",
   "version": "3.8.5"
  },
  "varInspector": {
   "cols": {
    "lenName": 16,
    "lenType": 16,
    "lenVar": 40
   },
   "kernels_config": {
    "python": {
     "delete_cmd_postfix": "",
     "delete_cmd_prefix": "del ",
     "library": "var_list.py",
     "varRefreshCmd": "print(var_dic_list())"
    },
    "r": {
     "delete_cmd_postfix": ") ",
     "delete_cmd_prefix": "rm(",
     "library": "var_list.r",
     "varRefreshCmd": "cat(var_dic_list()) "
    }
   },
   "types_to_exclude": [
    "module",
    "function",
    "builtin_function_or_method",
    "instance",
    "_Feature"
   ],
   "window_display": false
  }
 },
 "nbformat": 4,
 "nbformat_minor": 4
}